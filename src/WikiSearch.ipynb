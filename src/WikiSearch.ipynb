{
 "cells": [
  {
   "cell_type": "markdown",
   "metadata": {},
   "source": [
    "### Wiki Search with Python\n",
    "\n",
    "We have implemented a search engine using data coming from wikipedia"
   ]
  },
  {
   "cell_type": "code",
   "execution_count": null,
   "metadata": {},
   "outputs": [],
   "source": [
    "# Imports Indexer and QueryRunner\n",
    "import Indexer\n",
    "import QueryRunner\n"
   ]
  },
  {
   "cell_type": "markdown",
   "metadata": {},
   "source": [
    "We first need to create the **inverted index** from the xml file we get from **Wikipedia**. While processing the xml, we need to observe variables like:\n",
    "\n",
    "- File Count\n",
    "- Indices\n",
    "- Document IDs\n",
    "- Output Path\n",
    "\n",
    "So we create some global variables for them, they are in Settings class."
   ]
  },
  {
   "cell_type": "markdown",
   "metadata": {},
   "source": [
    "We first need to run the indexer. This module parses the wikipedia xml dump file and writes inverted index to several files for searching and ranking later. We use a small dataset (97.780KB) for demonstrating the indexer because the bigger xml dump for 2024 is nearly 90GB and processing it lasted approximately two days."
   ]
  },
  {
   "cell_type": "code",
   "execution_count": null,
   "metadata": {},
   "outputs": [],
   "source": [
    "# This will create index files under resources/index\n",
    "Indexer.Run('../resources/wiki_small_dataset.xml')"
   ]
  },
  {
   "cell_type": "markdown",
   "metadata": {},
   "source": [
    "Now the indexing has finished, we can see the resulting index files under the resources folder. Now, we can search for queries looking at this inverted index."
   ]
  },
  {
   "cell_type": "code",
   "execution_count": null,
   "metadata": {},
   "outputs": [],
   "source": [
    "QueryRunner.Run(None, 5)"
   ]
  },
  {
   "cell_type": "markdown",
   "metadata": {},
   "source": [
    "Now let's try with the index generated from 90GB wikipedia dump."
   ]
  }
 ],
 "metadata": {
  "kernelspec": {
   "display_name": "Python 3",
   "language": "python",
   "name": "python3"
  },
  "language_info": {
   "codemirror_mode": {
    "name": "ipython",
    "version": 3
   },
   "file_extension": ".py",
   "mimetype": "text/x-python",
   "name": "python",
   "nbconvert_exporter": "python",
   "pygments_lexer": "ipython3",
   "version": "3.12.3"
  }
 },
 "nbformat": 4,
 "nbformat_minor": 2
}
